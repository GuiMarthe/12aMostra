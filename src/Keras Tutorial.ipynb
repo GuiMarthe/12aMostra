{
 "cells": [
  {
   "cell_type": "markdown",
   "metadata": {},
   "source": [
    "## Keras Tutorial\n",
    "\n",
    "http://keras.io\n",
    "\n",
    "Esse tutorial é uma versão simplificada do tutorial disponível em: https://github.com/MLIME/Frameworks/tree/master/Keras\n",
    "\n",
    "#### O que é Keras?\n",
    "\n",
    "> Keras is a high-level neural networks API, written in Python and capable of running on top of either TensorFlow or Theano. It was developed with a focus on enabling fast experimentation. Being able to go from idea to result with the least possible delay is key to doing good research.\n",
    "\n",
    "Esse tutorial é dividido em três partes\n",
    "\n",
    "1. Funcionamento Básico do Keras\n",
    "2. Exemplo de Deep Feedforward Network\n",
    "3. Exemplo de Convolutional Neural Network\n"
   ]
  },
  {
   "cell_type": "markdown",
   "metadata": {},
   "source": [
    "### 1. Funcionamento básico do Keras\n",
    "\n",
    "#### Backends\n",
    "- Theano ou TensorFlow (CPU ou GPU)\n",
    "\n",
    "#### Tipos de Layers\n",
    "- Core layers: Dense, Activation, Dropout, Flatten\n",
    "- Convolutional layers: ConvXD, CroppingXD, UpSamplingXD\n",
    "- Pooling Layers: MaxPoolingXD, AveragePoolingXD\n",
    "- Custom layers can be created\n",
    "\n",
    "#### Funções de perda\n",
    "- categorical_crossentropy\n",
    "- sparse_categorical_crossentropy\n",
    "- binary_crossentropy\n",
    "- mean_squared_error\n",
    "- mean_absolute_error\n",
    "\n",
    "#### Otimizadores\n",
    "- SGD\n",
    "- RMSprop\n",
    "- Adagrad\n",
    "- Adadelta\n",
    "- Adam\n",
    "- Adamax\n",
    "\n",
    "\n",
    "#### Ativações\n",
    "- softmax\n",
    "- elu\n",
    "- relu\n",
    "- tanh\n",
    "- sigmoid\n",
    "- hard_sigmoid\n",
    "- linear\n",
    "\n",
    "#### Inicializadores\n",
    "- Zeros\n",
    "- RandomNormal\n",
    "- RandomUniform\n",
    "- TruncatedNormal\n",
    "- VarianceScaling\n",
    "- Orthogonal\n",
    "- Identity\n",
    "- lecun_uniform\n",
    "- glorot_normal\n",
    "- glorot_uniform\n",
    "- he_normal\n",
    "- he_uniform\n"
   ]
  },
  {
   "cell_type": "markdown",
   "metadata": {},
   "source": [
    "## Inicialização\n",
    "Importamos bibliotecas e carregamos os dados"
   ]
  },
  {
   "cell_type": "code",
   "execution_count": 1,
   "metadata": {},
   "outputs": [
    {
     "name": "stderr",
     "output_type": "stream",
     "text": [
      "Using TensorFlow backend.\n"
     ]
    }
   ],
   "source": [
    "import helper\n",
    "import numpy as np\n",
    "import keras\n",
    "from keras.utils import np_utils\n",
    "\n",
    "X_train, y_train, X_test, y_test = helper.load_mnist_dataset()\n",
    "\n",
    "# Converte em one-hot\n",
    "y_train = np_utils.to_categorical(y_train, 10)\n",
    "y_test = np_utils.to_categorical(y_test, 10)\n"
   ]
  },
  {
   "cell_type": "markdown",
   "metadata": {},
   "source": [
    "### 2. Construindo DFNs com Keras\n",
    "\n",
    "#### Reshaping MNIST data"
   ]
  },
  {
   "cell_type": "code",
   "execution_count": 3,
   "metadata": {
    "collapsed": true
   },
   "outputs": [],
   "source": [
    "X_train = X_train.reshape(X_train.shape[0], np.prod(X_train.shape[1:]))\n",
    "X_test = X_test.reshape(X_test.shape[0], np.prod(X_test.shape[1:]))"
   ]
  },
  {
   "cell_type": "code",
   "execution_count": 4,
   "metadata": {},
   "outputs": [
    {
     "name": "stdout",
     "output_type": "stream",
     "text": [
      "Train on 48000 samples, validate on 12000 samples\n",
      "Epoch 1/2\n",
      "48000/48000 [==============================] - 6s - loss: 0.8101 - acc: 0.7232 - val_loss: 0.5492 - val_acc: 0.8023\n",
      "Epoch 2/2\n",
      "48000/48000 [==============================] - 6s - loss: 0.5036 - acc: 0.8238 - val_loss: 0.4659 - val_acc: 0.8345\n",
      " 9120/10000 [==========================>...] - ETA: 0s\n",
      "Accuracy: 0.82\n"
     ]
    }
   ],
   "source": [
    "#Sequential é a API que permite construirmos um modelo ao adicionar incrementalmente layers\n",
    "from keras.models import Sequential\n",
    "from keras.layers import Dense, Flatten\n",
    "\n",
    "model = Sequential()\n",
    "model.add(Dense(128, input_shape=(28*28,), activation='relu'))\n",
    "model.add(Dense(128, activation='relu'))\n",
    "model.add(Dense(128, activation='relu'))\n",
    "model.add(Dense(10, activation='softmax'))\n",
    "\n",
    "model.compile(loss='categorical_crossentropy', \n",
    "              optimizer='sgd',\n",
    "              metrics=['accuracy'])\n",
    "\n",
    "model.fit(X_train, y_train, batch_size=32, epochs=2,\n",
    "          validation_split=0.2, \n",
    "          verbose=1)\n",
    "\n",
    "print('\\nAccuracy: %.2f' % model.evaluate(X_test, y_test, verbose=1)[1])"
   ]
  },
  {
   "cell_type": "markdown",
   "metadata": {},
   "source": [
    "### 3. Construindo CNNs com Keras\n",
    "\n",
    "#### Reshaping MNIST data"
   ]
  },
  {
   "cell_type": "code",
   "execution_count": 5,
   "metadata": {
    "collapsed": true
   },
   "outputs": [],
   "source": [
    "X_train = X_train.reshape(X_train.shape[0], 28, 28, 1)\n",
    "X_test = X_test.reshape(X_test.shape[0], 28, 28, 1)"
   ]
  },
  {
   "cell_type": "markdown",
   "metadata": {},
   "source": [
    "#### Compiling and training a CNN"
   ]
  },
  {
   "cell_type": "code",
   "execution_count": 7,
   "metadata": {},
   "outputs": [
    {
     "name": "stdout",
     "output_type": "stream",
     "text": [
      "Train on 48000 samples, validate on 12000 samples\n",
      "Epoch 1/2\n",
      "48000/48000 [==============================] - 140s - loss: 0.9989 - acc: 0.6241 - val_loss: 0.5956 - val_acc: 0.7861\n",
      "Epoch 2/2\n",
      "48000/48000 [==============================] - 141s - loss: 0.6237 - acc: 0.7641 - val_loss: 0.5011 - val_acc: 0.8130\n",
      " 9984/10000 [============================>.] - ETA: 0s\n",
      "Accuracy: 0.81\n"
     ]
    }
   ],
   "source": [
    "from keras.models import Sequential\n",
    "from keras.layers import Dense, Dropout, Flatten\n",
    "from keras.layers import MaxPooling2D\n",
    "from keras.layers.convolutional import Conv2D\n",
    "\n",
    "model = Sequential()\n",
    "model.add(Conv2D(32, (3, 3), padding='same', activation='relu',\n",
    "                 input_shape=(28, 28, 1),))\n",
    "model.add(Conv2D(32, (3, 3), padding='same', activation='relu'))\n",
    "model.add(MaxPooling2D(pool_size=(3, 3)))\n",
    "model.add(Dropout(0.25))\n",
    "model.add(Flatten())\n",
    "model.add(Dense(128, activation='relu'))\n",
    "model.add(Dropout(0.25))\n",
    "model.add(Dense(128, activation='relu'))\n",
    "model.add(Dense(10, activation='softmax'))\n",
    "\n",
    "model.compile(loss='categorical_crossentropy',\n",
    "              optimizer='sgd',\n",
    "              metrics=['accuracy'])\n",
    "\n",
    "model.fit(X_train, y_train, batch_size=32, epochs=2,\n",
    "          validation_split=0.2, \n",
    "          verbose=1)\n",
    "\n",
    "print('\\nAccuracy: %.2f' % model.evaluate(X_test, y_test, verbose=1)[1])"
   ]
  },
  {
   "cell_type": "code",
   "execution_count": null,
   "metadata": {
    "collapsed": true
   },
   "outputs": [],
   "source": []
  }
 ],
 "metadata": {
  "kernelspec": {
   "display_name": "Python 3",
   "language": "python",
   "name": "python3"
  },
  "language_info": {
   "codemirror_mode": {
    "name": "ipython",
    "version": 3
   },
   "file_extension": ".py",
   "mimetype": "text/x-python",
   "name": "python",
   "nbconvert_exporter": "python",
   "pygments_lexer": "ipython3",
   "version": "3.6.2"
  }
 },
 "nbformat": 4,
 "nbformat_minor": 2
}
